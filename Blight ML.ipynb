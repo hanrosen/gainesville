{
 "cells": [
  {
   "cell_type": "code",
   "execution_count": 3,
   "metadata": {},
   "outputs": [],
   "source": [
    "import pandas as pd\n",
    "import matplotlib.pyplot as plt\n",
    "import seaborn as sns\n",
    "import numpy as np\n",
    "\n",
    "%matplotlib inline\n",
    "\n",
    "from sklearn.preprocessing import MinMaxScaler\n",
    "from sklearn.model_selection import train_test_split\n",
    "from sklearn.metrics import classification_report, confusion_matrix\n",
    "from sklearn.ensemble import GradientBoostingClassifier"
   ]
  },
  {
   "cell_type": "code",
   "execution_count": 4,
   "metadata": {},
   "outputs": [],
   "source": [
    "mjr_violations_orig = pd.read_csv('data/mjrhouse_violations.csv')"
   ]
  },
  {
   "cell_type": "code",
   "execution_count": 5,
   "metadata": {},
   "outputs": [
    {
     "data": {
      "text/plain": [
       "(27863, 34)"
      ]
     },
     "execution_count": 5,
     "metadata": {},
     "output_type": "execute_result"
    }
   ],
   "source": [
    "violations = mjr_violations_orig\n",
    "violations.shape"
   ]
  },
  {
   "cell_type": "code",
   "execution_count": 6,
   "metadata": {},
   "outputs": [
    {
     "data": {
      "text/plain": [
       "Index(['Number', 'Violation', 'Inspector', 'Status', 'Primary_Party',\n",
       "       'Violation_Date', 'Compliance', 'Received_By', 'PARCEL_CLEAN',\n",
       "       'LATITUDE', 'LONGITUDE', 'Prop_Use_Code', 'Prop_Use_Desc', 'TRS_WATSON',\n",
       "       'SECTION_1', 'TOWNSHIP_1', 'RANGE_1', 'TD', 'RD'],\n",
       "      dtype='object')"
      ]
     },
     "execution_count": 6,
     "metadata": {},
     "output_type": "execute_result"
    }
   ],
   "source": [
    "violations.drop(['Resolve','Compliance_Requested','Case_Type','CEB_Compliance_Requested','Tag_', 'VIN_',\n",
    "       'Make', 'Color','Vehicle_Description', 'Address', 'Quantity','PARCEL_1', 'MAPSHEET','COUNTY', 'DESCRIPT'], axis=1, inplace = True)\n",
    "violations.columns"
   ]
  },
  {
   "cell_type": "code",
   "execution_count": 7,
   "metadata": {},
   "outputs": [],
   "source": [
    "# violations['Violation_Date'][0][:4]\n",
    "violations['Year'] = violations['Violation_Date'].map(lambda x: x[:4]).astype(int)"
   ]
  },
  {
   "cell_type": "code",
   "execution_count": 8,
   "metadata": {},
   "outputs": [],
   "source": [
    "#change to datetime format\n",
    "violations[\"Violation_Date\"] = pd.to_datetime(violations[\"Violation_Date\"])\n",
    "violations[\"Violation_Date\"] = pd.to_datetime(violations['Compliance'])"
   ]
  },
  {
   "cell_type": "code",
   "execution_count": 9,
   "metadata": {},
   "outputs": [
    {
     "data": {
      "text/html": [
       "<div>\n",
       "<style scoped>\n",
       "    .dataframe tbody tr th:only-of-type {\n",
       "        vertical-align: middle;\n",
       "    }\n",
       "\n",
       "    .dataframe tbody tr th {\n",
       "        vertical-align: top;\n",
       "    }\n",
       "\n",
       "    .dataframe thead th {\n",
       "        text-align: right;\n",
       "    }\n",
       "</style>\n",
       "<table border=\"1\" class=\"dataframe\">\n",
       "  <thead>\n",
       "    <tr style=\"text-align: right;\">\n",
       "      <th></th>\n",
       "      <th>Number</th>\n",
       "      <th>Violation</th>\n",
       "      <th>Inspector</th>\n",
       "      <th>Status</th>\n",
       "      <th>Primary_Party</th>\n",
       "      <th>Violation_Date</th>\n",
       "      <th>Compliance</th>\n",
       "      <th>Received_By</th>\n",
       "      <th>PARCEL_CLEAN</th>\n",
       "      <th>LATITUDE</th>\n",
       "      <th>...</th>\n",
       "      <th>Prop_Use_Code</th>\n",
       "      <th>Prop_Use_Desc</th>\n",
       "      <th>TRS_WATSON</th>\n",
       "      <th>SECTION_1</th>\n",
       "      <th>TOWNSHIP_1</th>\n",
       "      <th>RANGE_1</th>\n",
       "      <th>TD</th>\n",
       "      <th>RD</th>\n",
       "      <th>Year</th>\n",
       "      <th>blight</th>\n",
       "    </tr>\n",
       "  </thead>\n",
       "  <tbody>\n",
       "    <tr>\n",
       "      <th>0</th>\n",
       "      <td>CE-15-02088</td>\n",
       "      <td>Overgrown Yard / Weeds</td>\n",
       "      <td>Walter L. Booth, Sr.</td>\n",
       "      <td>Opened</td>\n",
       "      <td>ALAN  SCHNEIDER</td>\n",
       "      <td>2015-12-18 00:00:00</td>\n",
       "      <td>2015-12-18</td>\n",
       "      <td>311GNV</td>\n",
       "      <td>05977-215-000</td>\n",
       "      <td>29.735921</td>\n",
       "      <td>...</td>\n",
       "      <td>200.0</td>\n",
       "      <td>MOBILE HOME</td>\n",
       "      <td>09S19E002</td>\n",
       "      <td>2</td>\n",
       "      <td>9</td>\n",
       "      <td>19</td>\n",
       "      <td>S</td>\n",
       "      <td>E</td>\n",
       "      <td>2015</td>\n",
       "      <td>0</td>\n",
       "    </tr>\n",
       "    <tr>\n",
       "      <th>1</th>\n",
       "      <td>CE-10-03462</td>\n",
       "      <td>Blight-inducing Materials</td>\n",
       "      <td>Walter L. Booth, Sr.</td>\n",
       "      <td>Opened</td>\n",
       "      <td>SANDERS, JUNE E</td>\n",
       "      <td>2011-01-04 00:00:00</td>\n",
       "      <td>2011-01-04</td>\n",
       "      <td>By Phone</td>\n",
       "      <td>05977-217-000</td>\n",
       "      <td>29.735988</td>\n",
       "      <td>...</td>\n",
       "      <td>200.0</td>\n",
       "      <td>MOBILE HOME</td>\n",
       "      <td>09S19E002</td>\n",
       "      <td>2</td>\n",
       "      <td>9</td>\n",
       "      <td>19</td>\n",
       "      <td>S</td>\n",
       "      <td>E</td>\n",
       "      <td>2010</td>\n",
       "      <td>1</td>\n",
       "    </tr>\n",
       "    <tr>\n",
       "      <th>2</th>\n",
       "      <td>CE-09-06929</td>\n",
       "      <td>Dead Tree or Hazardous Trees</td>\n",
       "      <td>Walter L. Booth, Sr.</td>\n",
       "      <td>Opened</td>\n",
       "      <td>ADD PARTY</td>\n",
       "      <td>2010-03-22 00:00:00</td>\n",
       "      <td>2010-03-22</td>\n",
       "      <td>CE Officer</td>\n",
       "      <td>05977-217-000</td>\n",
       "      <td>29.735988</td>\n",
       "      <td>...</td>\n",
       "      <td>200.0</td>\n",
       "      <td>MOBILE HOME</td>\n",
       "      <td>09S19E002</td>\n",
       "      <td>2</td>\n",
       "      <td>9</td>\n",
       "      <td>19</td>\n",
       "      <td>S</td>\n",
       "      <td>E</td>\n",
       "      <td>2009</td>\n",
       "      <td>0</td>\n",
       "    </tr>\n",
       "    <tr>\n",
       "      <th>3</th>\n",
       "      <td>CE-09-06929</td>\n",
       "      <td>Overgrown Yard / Weeds</td>\n",
       "      <td>Walter L. Booth, Sr.</td>\n",
       "      <td>Opened</td>\n",
       "      <td>ADD PARTY</td>\n",
       "      <td>2010-03-22 00:00:00</td>\n",
       "      <td>2010-03-22</td>\n",
       "      <td>CE Officer</td>\n",
       "      <td>05977-217-000</td>\n",
       "      <td>29.735988</td>\n",
       "      <td>...</td>\n",
       "      <td>200.0</td>\n",
       "      <td>MOBILE HOME</td>\n",
       "      <td>09S19E002</td>\n",
       "      <td>2</td>\n",
       "      <td>9</td>\n",
       "      <td>19</td>\n",
       "      <td>S</td>\n",
       "      <td>E</td>\n",
       "      <td>2009</td>\n",
       "      <td>0</td>\n",
       "    </tr>\n",
       "    <tr>\n",
       "      <th>4</th>\n",
       "      <td>CE-15-02201</td>\n",
       "      <td>Overgrown Yard / Weeds</td>\n",
       "      <td>Walter L. Booth, Sr.</td>\n",
       "      <td>Opened</td>\n",
       "      <td>TURKEY CREEK FOREST OWNERS, ASSOCIATION</td>\n",
       "      <td>2015-10-08 00:00:00</td>\n",
       "      <td>2015-10-08</td>\n",
       "      <td>311GNV</td>\n",
       "      <td>05977-217-000</td>\n",
       "      <td>29.735988</td>\n",
       "      <td>...</td>\n",
       "      <td>200.0</td>\n",
       "      <td>MOBILE HOME</td>\n",
       "      <td>09S19E002</td>\n",
       "      <td>2</td>\n",
       "      <td>9</td>\n",
       "      <td>19</td>\n",
       "      <td>S</td>\n",
       "      <td>E</td>\n",
       "      <td>2015</td>\n",
       "      <td>0</td>\n",
       "    </tr>\n",
       "  </tbody>\n",
       "</table>\n",
       "<p>5 rows × 21 columns</p>\n",
       "</div>"
      ],
      "text/plain": [
       "        Number                     Violation             Inspector  Status  \\\n",
       "0  CE-15-02088        Overgrown Yard / Weeds  Walter L. Booth, Sr.  Opened   \n",
       "1  CE-10-03462     Blight-inducing Materials  Walter L. Booth, Sr.  Opened   \n",
       "2  CE-09-06929  Dead Tree or Hazardous Trees  Walter L. Booth, Sr.  Opened   \n",
       "3  CE-09-06929        Overgrown Yard / Weeds  Walter L. Booth, Sr.  Opened   \n",
       "4  CE-15-02201        Overgrown Yard / Weeds  Walter L. Booth, Sr.  Opened   \n",
       "\n",
       "                             Primary_Party       Violation_Date  Compliance  \\\n",
       "0                          ALAN  SCHNEIDER  2015-12-18 00:00:00  2015-12-18   \n",
       "1                          SANDERS, JUNE E  2011-01-04 00:00:00  2011-01-04   \n",
       "2                                ADD PARTY  2010-03-22 00:00:00  2010-03-22   \n",
       "3                                ADD PARTY  2010-03-22 00:00:00  2010-03-22   \n",
       "4  TURKEY CREEK FOREST OWNERS, ASSOCIATION  2015-10-08 00:00:00  2015-10-08   \n",
       "\n",
       "  Received_By   PARCEL_CLEAN   LATITUDE   ...    Prop_Use_Code  Prop_Use_Desc  \\\n",
       "0      311GNV  05977-215-000  29.735921   ...            200.0    MOBILE HOME   \n",
       "1    By Phone  05977-217-000  29.735988   ...            200.0    MOBILE HOME   \n",
       "2  CE Officer  05977-217-000  29.735988   ...            200.0    MOBILE HOME   \n",
       "3  CE Officer  05977-217-000  29.735988   ...            200.0    MOBILE HOME   \n",
       "4      311GNV  05977-217-000  29.735988   ...            200.0    MOBILE HOME   \n",
       "\n",
       "  TRS_WATSON SECTION_1  TOWNSHIP_1  RANGE_1 TD RD  Year  blight  \n",
       "0  09S19E002         2           9       19  S  E  2015       0  \n",
       "1  09S19E002         2           9       19  S  E  2010       1  \n",
       "2  09S19E002         2           9       19  S  E  2009       0  \n",
       "3  09S19E002         2           9       19  S  E  2009       0  \n",
       "4  09S19E002         2           9       19  S  E  2015       0  \n",
       "\n",
       "[5 rows x 21 columns]"
      ]
     },
     "execution_count": 9,
     "metadata": {},
     "output_type": "execute_result"
    }
   ],
   "source": [
    "violations['blight'] = violations['Violation'].isin(['Blight-inducing Materials','Abandoned Vehicles And/or Blight Inducing Materials']).astype(int)\n",
    "violations.head()\n",
    "\n",
    "\n",
    "# violations['SECTION_1'].astype(int)\n",
    "pd.to_numeric(violations['SECTION_1'] , errors='coerce')\n",
    "violations.fillna(value=0, inplace=True)\n",
    "\n",
    "# violations = violations['SECTION_1'].replace(' ' , '0')\n",
    "violations = violations.replace(' ' , '0')\n",
    "\n",
    "\n",
    "violations['SECTION_1'] = violations['SECTION_1'].astype(int)\n",
    "\n",
    "\n",
    "violations['TOWNSHIP_1'] = violations['TOWNSHIP_1'].astype(int)\n",
    "violations.head()\n"
   ]
  },
  {
   "cell_type": "code",
   "execution_count": 10,
   "metadata": {},
   "outputs": [],
   "source": [
    "train_data = violations[(violations['Year'] >= 2014) & (violations['Year'] <= 2018)].reset_index(drop=True)\n",
    "test_data = violations[(violations['Year'] >= 2019) & (violations['Year'] <= 2020)].reset_index(drop=True)"
   ]
  },
  {
   "cell_type": "code",
   "execution_count": 11,
   "metadata": {},
   "outputs": [
    {
     "data": {
      "text/plain": [
       "120"
      ]
     },
     "execution_count": 11,
     "metadata": {},
     "output_type": "execute_result"
    }
   ],
   "source": [
    "test_data['blight'].sum()"
   ]
  },
  {
   "cell_type": "code",
   "execution_count": 12,
   "metadata": {},
   "outputs": [
    {
     "data": {
      "text/plain": [
       "832"
      ]
     },
     "execution_count": 12,
     "metadata": {},
     "output_type": "execute_result"
    }
   ],
   "source": [
    "train_data['blight'].sum()"
   ]
  },
  {
   "cell_type": "code",
   "execution_count": 13,
   "metadata": {},
   "outputs": [],
   "source": [
    "y_train = train_data[\"blight\"]\n",
    "train_data.drop(labels=\"blight\", axis=1, inplace=True)\n",
    "test_data.drop(labels=\"blight\", axis=1, inplace=True)\n",
    "\n",
    "full_data = train_data.append(test_data)"
   ]
  },
  {
   "cell_type": "code",
   "execution_count": 14,
   "metadata": {},
   "outputs": [],
   "source": [
    "# drop_columns = [\"Compliance\", \"Inspector\", \"TD\", \"RANGE_1\", \"Prop_Use_Desc\", \"RD\", \"Violation\", \"Number\", \"Primary_Party\", \"TRS_WATSON\", ]\n",
    "full_data = full_data[[\"SECTION_1\", \"Received_By\", \"Prop_Use_Code\", \"Year\", \"TOWNSHIP_1\"]]\n",
    "\n",
    "# full_data.drop(labels=drop_columns, axis=1, inplace=True)"
   ]
  },
  {
   "cell_type": "code",
   "execution_count": 15,
   "metadata": {},
   "outputs": [
    {
     "data": {
      "text/html": [
       "<div>\n",
       "<style scoped>\n",
       "    .dataframe tbody tr th:only-of-type {\n",
       "        vertical-align: middle;\n",
       "    }\n",
       "\n",
       "    .dataframe tbody tr th {\n",
       "        vertical-align: top;\n",
       "    }\n",
       "\n",
       "    .dataframe thead th {\n",
       "        text-align: right;\n",
       "    }\n",
       "</style>\n",
       "<table border=\"1\" class=\"dataframe\">\n",
       "  <thead>\n",
       "    <tr style=\"text-align: right;\">\n",
       "      <th></th>\n",
       "      <th>SECTION_1</th>\n",
       "      <th>Received_By</th>\n",
       "      <th>Prop_Use_Code</th>\n",
       "      <th>Year</th>\n",
       "      <th>TOWNSHIP_1</th>\n",
       "    </tr>\n",
       "  </thead>\n",
       "  <tbody>\n",
       "    <tr>\n",
       "      <th>0</th>\n",
       "      <td>2</td>\n",
       "      <td>311GNV</td>\n",
       "      <td>200.0</td>\n",
       "      <td>2015</td>\n",
       "      <td>9</td>\n",
       "    </tr>\n",
       "    <tr>\n",
       "      <th>1</th>\n",
       "      <td>2</td>\n",
       "      <td>311GNV</td>\n",
       "      <td>200.0</td>\n",
       "      <td>2015</td>\n",
       "      <td>9</td>\n",
       "    </tr>\n",
       "    <tr>\n",
       "      <th>2</th>\n",
       "      <td>2</td>\n",
       "      <td>0</td>\n",
       "      <td>200.0</td>\n",
       "      <td>2017</td>\n",
       "      <td>9</td>\n",
       "    </tr>\n",
       "    <tr>\n",
       "      <th>3</th>\n",
       "      <td>2</td>\n",
       "      <td>311GNV</td>\n",
       "      <td>200.0</td>\n",
       "      <td>2015</td>\n",
       "      <td>9</td>\n",
       "    </tr>\n",
       "    <tr>\n",
       "      <th>4</th>\n",
       "      <td>2</td>\n",
       "      <td>By Email</td>\n",
       "      <td>100.0</td>\n",
       "      <td>2015</td>\n",
       "      <td>9</td>\n",
       "    </tr>\n",
       "  </tbody>\n",
       "</table>\n",
       "</div>"
      ],
      "text/plain": [
       "   SECTION_1 Received_By  Prop_Use_Code  Year  TOWNSHIP_1\n",
       "0          2      311GNV          200.0  2015           9\n",
       "1          2      311GNV          200.0  2015           9\n",
       "2          2           0          200.0  2017           9\n",
       "3          2      311GNV          200.0  2015           9\n",
       "4          2    By Email          100.0  2015           9"
      ]
     },
     "execution_count": 15,
     "metadata": {},
     "output_type": "execute_result"
    }
   ],
   "source": [
    "full_data.head()"
   ]
  },
  {
   "cell_type": "code",
   "execution_count": 16,
   "metadata": {},
   "outputs": [
    {
     "data": {
      "text/html": [
       "<div>\n",
       "<style scoped>\n",
       "    .dataframe tbody tr th:only-of-type {\n",
       "        vertical-align: middle;\n",
       "    }\n",
       "\n",
       "    .dataframe tbody tr th {\n",
       "        vertical-align: top;\n",
       "    }\n",
       "\n",
       "    .dataframe thead th {\n",
       "        text-align: right;\n",
       "    }\n",
       "</style>\n",
       "<table border=\"1\" class=\"dataframe\">\n",
       "  <thead>\n",
       "    <tr style=\"text-align: right;\">\n",
       "      <th></th>\n",
       "      <th>SECTION_1</th>\n",
       "      <th>Prop_Use_Code</th>\n",
       "      <th>Year</th>\n",
       "      <th>TOWNSHIP_1</th>\n",
       "      <th>Received_By_0</th>\n",
       "      <th>Received_By_311GNV</th>\n",
       "      <th>Received_By_Admin</th>\n",
       "      <th>Received_By_By Email</th>\n",
       "      <th>Received_By_By Fax</th>\n",
       "      <th>Received_By_By Mail</th>\n",
       "      <th>Received_By_By Phone</th>\n",
       "      <th>Received_By_CE Officer</th>\n",
       "      <th>Received_By_MANAGER</th>\n",
       "      <th>Received_By_Proactive</th>\n",
       "      <th>Received_By_SUPERVISOR</th>\n",
       "      <th>Received_By_Voice Mail</th>\n",
       "      <th>Received_By_Walk In</th>\n",
       "    </tr>\n",
       "  </thead>\n",
       "  <tbody>\n",
       "    <tr>\n",
       "      <th>0</th>\n",
       "      <td>2</td>\n",
       "      <td>200.0</td>\n",
       "      <td>2015</td>\n",
       "      <td>9</td>\n",
       "      <td>0</td>\n",
       "      <td>1</td>\n",
       "      <td>0</td>\n",
       "      <td>0</td>\n",
       "      <td>0</td>\n",
       "      <td>0</td>\n",
       "      <td>0</td>\n",
       "      <td>0</td>\n",
       "      <td>0</td>\n",
       "      <td>0</td>\n",
       "      <td>0</td>\n",
       "      <td>0</td>\n",
       "      <td>0</td>\n",
       "    </tr>\n",
       "    <tr>\n",
       "      <th>1</th>\n",
       "      <td>2</td>\n",
       "      <td>200.0</td>\n",
       "      <td>2015</td>\n",
       "      <td>9</td>\n",
       "      <td>0</td>\n",
       "      <td>1</td>\n",
       "      <td>0</td>\n",
       "      <td>0</td>\n",
       "      <td>0</td>\n",
       "      <td>0</td>\n",
       "      <td>0</td>\n",
       "      <td>0</td>\n",
       "      <td>0</td>\n",
       "      <td>0</td>\n",
       "      <td>0</td>\n",
       "      <td>0</td>\n",
       "      <td>0</td>\n",
       "    </tr>\n",
       "    <tr>\n",
       "      <th>2</th>\n",
       "      <td>2</td>\n",
       "      <td>200.0</td>\n",
       "      <td>2017</td>\n",
       "      <td>9</td>\n",
       "      <td>1</td>\n",
       "      <td>0</td>\n",
       "      <td>0</td>\n",
       "      <td>0</td>\n",
       "      <td>0</td>\n",
       "      <td>0</td>\n",
       "      <td>0</td>\n",
       "      <td>0</td>\n",
       "      <td>0</td>\n",
       "      <td>0</td>\n",
       "      <td>0</td>\n",
       "      <td>0</td>\n",
       "      <td>0</td>\n",
       "    </tr>\n",
       "    <tr>\n",
       "      <th>3</th>\n",
       "      <td>2</td>\n",
       "      <td>200.0</td>\n",
       "      <td>2015</td>\n",
       "      <td>9</td>\n",
       "      <td>0</td>\n",
       "      <td>1</td>\n",
       "      <td>0</td>\n",
       "      <td>0</td>\n",
       "      <td>0</td>\n",
       "      <td>0</td>\n",
       "      <td>0</td>\n",
       "      <td>0</td>\n",
       "      <td>0</td>\n",
       "      <td>0</td>\n",
       "      <td>0</td>\n",
       "      <td>0</td>\n",
       "      <td>0</td>\n",
       "    </tr>\n",
       "    <tr>\n",
       "      <th>4</th>\n",
       "      <td>2</td>\n",
       "      <td>100.0</td>\n",
       "      <td>2015</td>\n",
       "      <td>9</td>\n",
       "      <td>0</td>\n",
       "      <td>0</td>\n",
       "      <td>0</td>\n",
       "      <td>1</td>\n",
       "      <td>0</td>\n",
       "      <td>0</td>\n",
       "      <td>0</td>\n",
       "      <td>0</td>\n",
       "      <td>0</td>\n",
       "      <td>0</td>\n",
       "      <td>0</td>\n",
       "      <td>0</td>\n",
       "      <td>0</td>\n",
       "    </tr>\n",
       "  </tbody>\n",
       "</table>\n",
       "</div>"
      ],
      "text/plain": [
       "   SECTION_1  Prop_Use_Code  Year  TOWNSHIP_1  Received_By_0  \\\n",
       "0          2          200.0  2015           9              0   \n",
       "1          2          200.0  2015           9              0   \n",
       "2          2          200.0  2017           9              1   \n",
       "3          2          200.0  2015           9              0   \n",
       "4          2          100.0  2015           9              0   \n",
       "\n",
       "   Received_By_311GNV  Received_By_Admin  Received_By_By Email  \\\n",
       "0                   1                  0                     0   \n",
       "1                   1                  0                     0   \n",
       "2                   0                  0                     0   \n",
       "3                   1                  0                     0   \n",
       "4                   0                  0                     1   \n",
       "\n",
       "   Received_By_By Fax  Received_By_By Mail  Received_By_By Phone  \\\n",
       "0                   0                    0                     0   \n",
       "1                   0                    0                     0   \n",
       "2                   0                    0                     0   \n",
       "3                   0                    0                     0   \n",
       "4                   0                    0                     0   \n",
       "\n",
       "   Received_By_CE Officer  Received_By_MANAGER  Received_By_Proactive  \\\n",
       "0                       0                    0                      0   \n",
       "1                       0                    0                      0   \n",
       "2                       0                    0                      0   \n",
       "3                       0                    0                      0   \n",
       "4                       0                    0                      0   \n",
       "\n",
       "   Received_By_SUPERVISOR  Received_By_Voice Mail  Received_By_Walk In  \n",
       "0                       0                       0                    0  \n",
       "1                       0                       0                    0  \n",
       "2                       0                       0                    0  \n",
       "3                       0                       0                    0  \n",
       "4                       0                       0                    0  "
      ]
     },
     "execution_count": 16,
     "metadata": {},
     "output_type": "execute_result"
    }
   ],
   "source": [
    "full_data = pd.get_dummies(full_data, columns=[\"Received_By\"])\n",
    "full_data.fillna(value=0.0, inplace=True)\n",
    "full_data.head()\n"
   ]
  },
  {
   "cell_type": "code",
   "execution_count": 17,
   "metadata": {},
   "outputs": [
    {
     "data": {
      "text/plain": [
       "(5958, 20)"
      ]
     },
     "execution_count": 17,
     "metadata": {},
     "output_type": "execute_result"
    }
   ],
   "source": [
    "train_data.shape"
   ]
  },
  {
   "cell_type": "code",
   "execution_count": 18,
   "metadata": {},
   "outputs": [
    {
     "data": {
      "text/plain": [
       "array([[  2.00000000e+00,   2.00000000e+02,   2.01500000e+03, ...,\n",
       "          0.00000000e+00,   0.00000000e+00,   0.00000000e+00],\n",
       "       [  2.00000000e+00,   2.00000000e+02,   2.01500000e+03, ...,\n",
       "          0.00000000e+00,   0.00000000e+00,   0.00000000e+00],\n",
       "       [  2.00000000e+00,   2.00000000e+02,   2.01700000e+03, ...,\n",
       "          0.00000000e+00,   0.00000000e+00,   0.00000000e+00],\n",
       "       ..., \n",
       "       [  0.00000000e+00,   0.00000000e+00,   2.01600000e+03, ...,\n",
       "          0.00000000e+00,   0.00000000e+00,   0.00000000e+00],\n",
       "       [  0.00000000e+00,   0.00000000e+00,   2.01600000e+03, ...,\n",
       "          0.00000000e+00,   0.00000000e+00,   0.00000000e+00],\n",
       "       [  0.00000000e+00,   0.00000000e+00,   2.01600000e+03, ...,\n",
       "          0.00000000e+00,   0.00000000e+00,   0.00000000e+00]])"
      ]
     },
     "execution_count": 18,
     "metadata": {},
     "output_type": "execute_result"
    }
   ],
   "source": [
    "X_train = full_data.values[0:5958]\n",
    "X_train"
   ]
  },
  {
   "cell_type": "code",
   "execution_count": 19,
   "metadata": {},
   "outputs": [
    {
     "data": {
      "text/plain": [
       "array([  2.00000000e+00,   2.00000000e+02,   2.01900000e+03,\n",
       "         9.00000000e+00,   0.00000000e+00,   0.00000000e+00,\n",
       "         0.00000000e+00,   0.00000000e+00,   0.00000000e+00,\n",
       "         0.00000000e+00,   1.00000000e+00,   0.00000000e+00,\n",
       "         0.00000000e+00,   0.00000000e+00,   0.00000000e+00,\n",
       "         0.00000000e+00,   0.00000000e+00])"
      ]
     },
     "execution_count": 19,
     "metadata": {},
     "output_type": "execute_result"
    }
   ],
   "source": [
    "X_test = full_data.values[5958:]\n",
    "X_test[0]"
   ]
  },
  {
   "cell_type": "code",
   "execution_count": 20,
   "metadata": {},
   "outputs": [],
   "source": [
    "scaler = MinMaxScaler()\n",
    "X_train = scaler.fit_transform(X_train)\n",
    "X_test = scaler.transform(X_test)"
   ]
  },
  {
   "cell_type": "code",
   "execution_count": 21,
   "metadata": {},
   "outputs": [],
   "source": [
    "state = 12  \n",
    "test_size = 0.30  \n",
    "  \n",
    "X_train, X_val, y_train, y_val = train_test_split(X_train, y_train,  \n",
    "    test_size=test_size, random_state=state)"
   ]
  },
  {
   "cell_type": "code",
   "execution_count": 22,
   "metadata": {},
   "outputs": [
    {
     "name": "stdout",
     "output_type": "stream",
     "text": [
      "Learning rate:  0.05\n",
      "Accuracy score (training): 0.858\n",
      "Accuracy score (validation): 0.866\n",
      "Learning rate:  0.075\n",
      "Accuracy score (training): 0.858\n",
      "Accuracy score (validation): 0.866\n",
      "Learning rate:  0.1\n",
      "Accuracy score (training): 0.858\n",
      "Accuracy score (validation): 0.866\n",
      "Learning rate:  0.25\n",
      "Accuracy score (training): 0.858\n",
      "Accuracy score (validation): 0.866\n",
      "Learning rate:  0.5\n",
      "Accuracy score (training): 0.858\n",
      "Accuracy score (validation): 0.866\n",
      "Learning rate:  0.75\n",
      "Accuracy score (training): 0.859\n",
      "Accuracy score (validation): 0.864\n",
      "Learning rate:  1\n",
      "Accuracy score (training): 0.859\n",
      "Accuracy score (validation): 0.860\n"
     ]
    }
   ],
   "source": [
    "lr_list = [0.05, 0.075, 0.1, 0.25, 0.5, 0.75, 1]\n",
    "\n",
    "for learning_rate in lr_list:\n",
    "    gb_clf = GradientBoostingClassifier(n_estimators=20, learning_rate=learning_rate, max_features=12, max_depth=2, random_state=0)\n",
    "    gb_clf.fit(X_train, y_train)\n",
    "\n",
    "    print(\"Learning rate: \", learning_rate)\n",
    "    print(\"Accuracy score (training): {0:.3f}\".format(gb_clf.score(X_train, y_train)))\n",
    "    print(\"Accuracy score (validation): {0:.3f}\".format(gb_clf.score(X_val, y_val)))"
   ]
  },
  {
   "cell_type": "code",
   "execution_count": 25,
   "metadata": {},
   "outputs": [
    {
     "name": "stdout",
     "output_type": "stream",
     "text": [
      "Confusion Matrix:\n",
      "[[1548    1]\n",
      " [ 239    0]]\n",
      "Classification Report\n",
      "             precision    recall  f1-score   support\n",
      "\n",
      "          0       0.87      1.00      0.93      1549\n",
      "          1       0.00      0.00      0.00       239\n",
      "\n",
      "avg / total       0.75      0.87      0.80      1788\n",
      "\n"
     ]
    }
   ],
   "source": [
    "gb_clf2 = GradientBoostingClassifier(n_estimators=20, learning_rate=0.5, max_features=12, max_depth=2, random_state=0)\n",
    "gb_clf2.fit(X_train, y_train)\n",
    "predictions = gb_clf2.predict(X_val)\n",
    "# predictions\n",
    "\n",
    "# # test_data['predictions'] = predictions\n",
    "# # X_train.shape\n",
    "# # test_data.shape\n",
    "\n",
    "# # len(X_val)\n",
    "# # X_val\n",
    "\n",
    "print(\"Confusion Matrix:\")\n",
    "print(confusion_matrix(y_val, predictions))\n",
    "\n",
    "print(\"Classification Report\")\n",
    "print(classification_report(y_val, predictions))"
   ]
  },
  {
   "cell_type": "code",
   "execution_count": null,
   "metadata": {},
   "outputs": [],
   "source": []
  }
 ],
 "metadata": {
  "kernelspec": {
   "display_name": "Python 3",
   "language": "python",
   "name": "python3"
  },
  "language_info": {
   "codemirror_mode": {
    "name": "ipython",
    "version": 3
   },
   "file_extension": ".py",
   "mimetype": "text/x-python",
   "name": "python",
   "nbconvert_exporter": "python",
   "pygments_lexer": "ipython3",
   "version": "3.6.1"
  }
 },
 "nbformat": 4,
 "nbformat_minor": 2
}
