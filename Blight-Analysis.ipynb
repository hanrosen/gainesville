{
 "cells": [
  {
   "cell_type": "code",
   "execution_count": 1,
   "metadata": {},
   "outputs": [
    {
     "name": "stderr",
     "output_type": "stream",
     "text": [
      "Matplotlib is building the font cache using fc-list. This may take a moment.\n"
     ]
    }
   ],
   "source": [
    "import pandas as pd\n",
    "import matplotlib.pyplot as plt\n",
    "import seaborn as sns\n",
    "import numpy as np\n",
    "\n",
    "%matplotlib inline"
   ]
  },
  {
   "cell_type": "code",
   "execution_count": 162,
   "metadata": {},
   "outputs": [],
   "source": [
    "mjr_violations_orig = pd.read_csv('data/mjrhouse_violations.csv')"
   ]
  },
  {
   "cell_type": "code",
   "execution_count": 163,
   "metadata": {},
   "outputs": [
    {
     "data": {
      "text/plain": [
       "(27863, 34)"
      ]
     },
     "execution_count": 163,
     "metadata": {},
     "output_type": "execute_result"
    }
   ],
   "source": [
    "violations = mjr_violations_orig\n",
    "violations.shape"
   ]
  },
  {
   "cell_type": "code",
   "execution_count": 164,
   "metadata": {},
   "outputs": [],
   "source": [
    "# violations.head()"
   ]
  },
  {
   "cell_type": "code",
   "execution_count": 165,
   "metadata": {},
   "outputs": [
    {
     "data": {
      "text/plain": [
       "Index(['Number', 'Violation', 'Inspector', 'Status', 'Primary_Party',\n",
       "       'Violation_Date', 'Compliance', 'Received_By', 'PARCEL_CLEAN',\n",
       "       'LATITUDE', 'LONGITUDE', 'Prop_Use_Code', 'Prop_Use_Desc', 'TRS_WATSON',\n",
       "       'SECTION_1', 'TOWNSHIP_1', 'RANGE_1', 'TD', 'RD'],\n",
       "      dtype='object')"
      ]
     },
     "execution_count": 165,
     "metadata": {},
     "output_type": "execute_result"
    }
   ],
   "source": [
    "violations.drop(['Resolve','Compliance_Requested','Case_Type','CEB_Compliance_Requested','Tag_', 'VIN_',\n",
    "       'Make', 'Color','Vehicle_Description', 'Address', 'Quantity','PARCEL_1', 'MAPSHEET','COUNTY', 'DESCRIPT'], axis=1, inplace = True)\n",
    "violations.columns"
   ]
  },
  {
   "cell_type": "code",
   "execution_count": 167,
   "metadata": {},
   "outputs": [],
   "source": [
    "#change to datetime format\n",
    "violations[\"Violation_Date\"] = pd.to_datetime(violations[\"Violation_Date\"])\n",
    "violations[\"Violation_Date\"] = pd.to_datetime(violations['Compliance'])"
   ]
  },
  {
   "cell_type": "markdown",
   "metadata": {},
   "source": [
    "# Blight Violations"
   ]
  },
  {
   "cell_type": "code",
   "execution_count": 168,
   "metadata": {},
   "outputs": [
    {
     "data": {
      "text/html": [
       "<div>\n",
       "<style scoped>\n",
       "    .dataframe tbody tr th:only-of-type {\n",
       "        vertical-align: middle;\n",
       "    }\n",
       "\n",
       "    .dataframe tbody tr th {\n",
       "        vertical-align: top;\n",
       "    }\n",
       "\n",
       "    .dataframe thead th {\n",
       "        text-align: right;\n",
       "    }\n",
       "</style>\n",
       "<table border=\"1\" class=\"dataframe\">\n",
       "  <thead>\n",
       "    <tr style=\"text-align: right;\">\n",
       "      <th></th>\n",
       "      <th>Number</th>\n",
       "      <th>Violation</th>\n",
       "      <th>Inspector</th>\n",
       "      <th>Status</th>\n",
       "      <th>Primary_Party</th>\n",
       "      <th>Violation_Date</th>\n",
       "      <th>Compliance</th>\n",
       "      <th>Received_By</th>\n",
       "      <th>PARCEL_CLEAN</th>\n",
       "      <th>LATITUDE</th>\n",
       "      <th>LONGITUDE</th>\n",
       "      <th>Prop_Use_Code</th>\n",
       "      <th>Prop_Use_Desc</th>\n",
       "      <th>TRS_WATSON</th>\n",
       "      <th>SECTION_1</th>\n",
       "      <th>TOWNSHIP_1</th>\n",
       "      <th>RANGE_1</th>\n",
       "      <th>TD</th>\n",
       "      <th>RD</th>\n",
       "    </tr>\n",
       "  </thead>\n",
       "  <tbody>\n",
       "    <tr>\n",
       "      <th>0</th>\n",
       "      <td>CE-10-03462</td>\n",
       "      <td>Blight-inducing Materials</td>\n",
       "      <td>Walter L. Booth, Sr.</td>\n",
       "      <td>Opened</td>\n",
       "      <td>SANDERS, JUNE E</td>\n",
       "      <td>2011-01-04</td>\n",
       "      <td>2011-01-04</td>\n",
       "      <td>By Phone</td>\n",
       "      <td>05977-217-000</td>\n",
       "      <td>29.735988</td>\n",
       "      <td>-82.384887</td>\n",
       "      <td>200.0</td>\n",
       "      <td>MOBILE HOME</td>\n",
       "      <td>09S19E002</td>\n",
       "      <td>002</td>\n",
       "      <td>09</td>\n",
       "      <td>19</td>\n",
       "      <td>S</td>\n",
       "      <td>E</td>\n",
       "    </tr>\n",
       "    <tr>\n",
       "      <th>1</th>\n",
       "      <td>CE-18-01217</td>\n",
       "      <td>Abandoned Vehicles And/or Blight Inducing Mate...</td>\n",
       "      <td>Todd Martin</td>\n",
       "      <td>Opened</td>\n",
       "      <td>COOK, CHRISTOPHER H</td>\n",
       "      <td>2018-08-02</td>\n",
       "      <td>2018-08-02</td>\n",
       "      <td>311GNV</td>\n",
       "      <td>05977-276-000</td>\n",
       "      <td>29.732794</td>\n",
       "      <td>-82.386024</td>\n",
       "      <td>200.0</td>\n",
       "      <td>MOBILE HOME</td>\n",
       "      <td>09S19E002</td>\n",
       "      <td>002</td>\n",
       "      <td>09</td>\n",
       "      <td>19</td>\n",
       "      <td>S</td>\n",
       "      <td>E</td>\n",
       "    </tr>\n",
       "    <tr>\n",
       "      <th>2</th>\n",
       "      <td>CE-10-03463</td>\n",
       "      <td>Blight-inducing Materials</td>\n",
       "      <td>Walter L. Booth, Sr.</td>\n",
       "      <td>Opened</td>\n",
       "      <td>ALLEN, ELIZABETH SUE</td>\n",
       "      <td>2012-05-16</td>\n",
       "      <td>2012-05-16</td>\n",
       "      <td>By Phone</td>\n",
       "      <td>05979-056-000</td>\n",
       "      <td>29.733962</td>\n",
       "      <td>-82.382726</td>\n",
       "      <td>100.0</td>\n",
       "      <td>SINGLE FAMILY</td>\n",
       "      <td>09S19E002</td>\n",
       "      <td>002</td>\n",
       "      <td>09</td>\n",
       "      <td>19</td>\n",
       "      <td>S</td>\n",
       "      <td>E</td>\n",
       "    </tr>\n",
       "    <tr>\n",
       "      <th>3</th>\n",
       "      <td>CE-10-01790</td>\n",
       "      <td>Blight-inducing Materials</td>\n",
       "      <td>Walter L. Booth, Sr.</td>\n",
       "      <td>Opened</td>\n",
       "      <td>ARC COMMUNITIES 6 LLC              ,          ...</td>\n",
       "      <td>2010-05-17</td>\n",
       "      <td>2010-05-17</td>\n",
       "      <td>By Phone</td>\n",
       "      <td>05983-000-000</td>\n",
       "      <td>29.735166</td>\n",
       "      <td>-82.374964</td>\n",
       "      <td>2800.0</td>\n",
       "      <td>PKG LOT (COMM)</td>\n",
       "      <td>09S19E002</td>\n",
       "      <td>002</td>\n",
       "      <td>09</td>\n",
       "      <td>19</td>\n",
       "      <td>S</td>\n",
       "      <td>E</td>\n",
       "    </tr>\n",
       "    <tr>\n",
       "      <th>4</th>\n",
       "      <td>CE-10-00340</td>\n",
       "      <td>Blight-inducing Materials</td>\n",
       "      <td>Walter L. Booth, Sr.</td>\n",
       "      <td>Opened</td>\n",
       "      <td>HARRIS MARCELOUS M</td>\n",
       "      <td>2010-03-23</td>\n",
       "      <td>2010-03-23</td>\n",
       "      <td>CE Officer</td>\n",
       "      <td>06006-040-030</td>\n",
       "      <td>29.726796</td>\n",
       "      <td>-82.399143</td>\n",
       "      <td>100.0</td>\n",
       "      <td>SINGLE FAMILY</td>\n",
       "      <td>09S19E010</td>\n",
       "      <td>010</td>\n",
       "      <td>09</td>\n",
       "      <td>19</td>\n",
       "      <td>S</td>\n",
       "      <td>E</td>\n",
       "    </tr>\n",
       "  </tbody>\n",
       "</table>\n",
       "</div>"
      ],
      "text/plain": [
       "        Number                                          Violation  \\\n",
       "0  CE-10-03462                          Blight-inducing Materials   \n",
       "1  CE-18-01217  Abandoned Vehicles And/or Blight Inducing Mate...   \n",
       "2  CE-10-03463                          Blight-inducing Materials   \n",
       "3  CE-10-01790                          Blight-inducing Materials   \n",
       "4  CE-10-00340                          Blight-inducing Materials   \n",
       "\n",
       "              Inspector  Status  \\\n",
       "0  Walter L. Booth, Sr.  Opened   \n",
       "1           Todd Martin  Opened   \n",
       "2  Walter L. Booth, Sr.  Opened   \n",
       "3  Walter L. Booth, Sr.  Opened   \n",
       "4  Walter L. Booth, Sr.  Opened   \n",
       "\n",
       "                                       Primary_Party Violation_Date  \\\n",
       "0                                    SANDERS, JUNE E     2011-01-04   \n",
       "1                                COOK, CHRISTOPHER H     2018-08-02   \n",
       "2                               ALLEN, ELIZABETH SUE     2012-05-16   \n",
       "3  ARC COMMUNITIES 6 LLC              ,          ...     2010-05-17   \n",
       "4                                 HARRIS MARCELOUS M     2010-03-23   \n",
       "\n",
       "   Compliance Received_By   PARCEL_CLEAN   LATITUDE  LONGITUDE  Prop_Use_Code  \\\n",
       "0  2011-01-04    By Phone  05977-217-000  29.735988 -82.384887          200.0   \n",
       "1  2018-08-02      311GNV  05977-276-000  29.732794 -82.386024          200.0   \n",
       "2  2012-05-16    By Phone  05979-056-000  29.733962 -82.382726          100.0   \n",
       "3  2010-05-17    By Phone  05983-000-000  29.735166 -82.374964         2800.0   \n",
       "4  2010-03-23  CE Officer  06006-040-030  29.726796 -82.399143          100.0   \n",
       "\n",
       "    Prop_Use_Desc TRS_WATSON SECTION_1 TOWNSHIP_1 RANGE_1 TD RD  \n",
       "0     MOBILE HOME  09S19E002       002         09      19  S  E  \n",
       "1     MOBILE HOME  09S19E002       002         09      19  S  E  \n",
       "2   SINGLE FAMILY  09S19E002       002         09      19  S  E  \n",
       "3  PKG LOT (COMM)  09S19E002       002         09      19  S  E  \n",
       "4   SINGLE FAMILY  09S19E010       010         09      19  S  E  "
      ]
     },
     "execution_count": 168,
     "metadata": {},
     "output_type": "execute_result"
    }
   ],
   "source": [
    "blight_violations = violations[violations['Violation'].isin(['Blight-inducing Materials','Abandoned Vehicles And/or Blight Inducing Materials'])].reset_index(drop=True)\n",
    "blight_violations.head()"
   ]
  },
  {
   "cell_type": "markdown",
   "metadata": {},
   "source": [
    "## Number of each Blight Violation"
   ]
  },
  {
   "cell_type": "code",
   "execution_count": 128,
   "metadata": {},
   "outputs": [
    {
     "data": {
      "text/plain": [
       "Abandoned Vehicles And/or Blight Inducing Materials    3597\n",
       "Blight-inducing Materials                              2663\n",
       "Name: Violation, dtype: int64"
      ]
     },
     "execution_count": 128,
     "metadata": {},
     "output_type": "execute_result"
    }
   ],
   "source": [
    "blight_violations['Violation'].value_counts()"
   ]
  },
  {
   "cell_type": "code",
   "execution_count": 129,
   "metadata": {},
   "outputs": [
    {
     "name": "stdout",
     "output_type": "stream",
     "text": [
      "6260\n"
     ]
    }
   ],
   "source": [
    "total_blight = blight_violations['Number'].count()\n",
    "print(total_blight)"
   ]
  },
  {
   "cell_type": "markdown",
   "metadata": {},
   "source": [
    "### Percent of Total Violations"
   ]
  },
  {
   "cell_type": "code",
   "execution_count": 130,
   "metadata": {},
   "outputs": [
    {
     "data": {
      "text/plain": [
       "0.2246707102609195"
      ]
     },
     "execution_count": 130,
     "metadata": {},
     "output_type": "execute_result"
    }
   ],
   "source": [
    "total_violations = violations.shape[0]\n",
    "blight_violations['Number'].count() / total_violations"
   ]
  },
  {
   "cell_type": "markdown",
   "metadata": {},
   "source": [
    "## Blight Complaint Sources"
   ]
  },
  {
   "cell_type": "markdown",
   "metadata": {},
   "source": [
    "#### Number from each Complaint Source"
   ]
  },
  {
   "cell_type": "code",
   "execution_count": 131,
   "metadata": {},
   "outputs": [
    {
     "name": "stdout",
     "output_type": "stream",
     "text": [
      "Received_By\n",
      "311GNV         104\n",
      "Admin           13\n",
      "By Email       103\n",
      "By Mail         15\n",
      "By Phone       543\n",
      "CE Officer    4596\n",
      "MANAGER          8\n",
      "Proactive      774\n",
      "SUPERVISOR      24\n",
      "Voice Mail      15\n",
      "Walk In         45\n",
      "Name: Number, dtype: int64\n"
     ]
    }
   ],
   "source": [
    "#whats the difference between proactive and CE officer?\n",
    "blight_complaint_source = blight_violations.groupby('Received_By').count()[\"Number\"]\n",
    "print(blight_complaint_source)"
   ]
  },
  {
   "cell_type": "markdown",
   "metadata": {},
   "source": [
    "#### Percent of Total blight violations"
   ]
  },
  {
   "cell_type": "code",
   "execution_count": 132,
   "metadata": {},
   "outputs": [
    {
     "data": {
      "text/plain": [
       "Received_By\n",
       "311GNV         1.661342\n",
       "Admin          0.207668\n",
       "By Email       1.645367\n",
       "By Mail        0.239617\n",
       "By Phone       8.674121\n",
       "CE Officer    73.418530\n",
       "MANAGER        0.127796\n",
       "Proactive     12.364217\n",
       "SUPERVISOR     0.383387\n",
       "Voice Mail     0.239617\n",
       "Walk In        0.718850\n",
       "Name: Number, dtype: float64"
      ]
     },
     "execution_count": 132,
     "metadata": {},
     "output_type": "execute_result"
    }
   ],
   "source": [
    "blight_complaint_source / total_blight *100"
   ]
  },
  {
   "cell_type": "markdown",
   "metadata": {},
   "source": [
    "## Complaint Sources from All Majorhousing Violations"
   ]
  },
  {
   "cell_type": "code",
   "execution_count": 192,
   "metadata": {},
   "outputs": [
    {
     "name": "stdout",
     "output_type": "stream",
     "text": [
      "Received_By\n",
      "311GNV          492\n",
      "Admin            68\n",
      "By Email        680\n",
      "By Fax            1\n",
      "By Mail          60\n",
      "By Phone       6317\n",
      "CE Officer    16226\n",
      "MANAGER          54\n",
      "Proactive      3135\n",
      "SUPERVISOR      122\n",
      "Voice Mail      157\n",
      "Walk In         371\n",
      "Name: Number, dtype: int64\n"
     ]
    }
   ],
   "source": [
    "complaint_source = violations.groupby('Received_By').count()[\"Number\"]\n",
    "print(complaint_source)"
   ]
  },
  {
   "cell_type": "code",
   "execution_count": 194,
   "metadata": {},
   "outputs": [
    {
     "data": {
      "text/plain": [
       "Received_By\n",
       "311GNV         1.765783\n",
       "Admin          0.244051\n",
       "By Email       2.440513\n",
       "By Fax         0.003589\n",
       "By Mail        0.215339\n",
       "By Phone      22.671643\n",
       "CE Officer    58.234935\n",
       "MANAGER        0.193805\n",
       "Proactive     11.251480\n",
       "SUPERVISOR     0.437857\n",
       "Voice Mail     0.563471\n",
       "Walk In        1.331515\n",
       "Name: Number, dtype: float64"
      ]
     },
     "execution_count": 194,
     "metadata": {},
     "output_type": "execute_result"
    }
   ],
   "source": [
    "complaint_source / total_violations *100"
   ]
  },
  {
   "cell_type": "markdown",
   "metadata": {},
   "source": [
    "#### 12.3% of blight violations are proactively found, marginally higher then the 11.2% out of all violations.\n",
    "#### 73.4% of blight violations are found by CE Officers, which is significantly higher then the 58.2% out of all Violations"
   ]
  },
  {
   "cell_type": "markdown",
   "metadata": {},
   "source": [
    "# Violations by Year"
   ]
  },
  {
   "cell_type": "code",
   "execution_count": 200,
   "metadata": {},
   "outputs": [],
   "source": [
    "blight_by_year = blight_violations.groupby(blight_violations['Violation_Date'].map(lambda x: x.year)).count()['Number']\n",
    "vio_by_year = violations.groupby(violations['Violation_Date'].map(lambda x: x.year)).count()['Number']\n",
    "\n",
    "percent_blight_per_year = blight_year / vio_by_year"
   ]
  },
  {
   "cell_type": "markdown",
   "metadata": {},
   "source": [
    "### Total Housing Violations by Year"
   ]
  },
  {
   "cell_type": "code",
   "execution_count": 204,
   "metadata": {},
   "outputs": [
    {
     "data": {
      "text/plain": [
       "[<matplotlib.lines.Line2D at 0x1a19219470>]"
      ]
     },
     "execution_count": 204,
     "metadata": {},
     "output_type": "execute_result"
    },
    {
     "data": {
      "image/png": "[encoded data removed]",
      "text/plain": [
       "<matplotlib.figure.Figure at 0x1a1917b780>"
      ]
     },
     "metadata": {},
     "output_type": "display_data"
    }
   ],
   "source": [
    "plt.plot(vio_by_year)"
   ]
  },
  {
   "cell_type": "markdown",
   "metadata": {},
   "source": [
    "### Blight Violations by Year"
   ]
  },
  {
   "cell_type": "code",
   "execution_count": 210,
   "metadata": {},
   "outputs": [
    {
     "data": {
      "text/plain": [
       "[<matplotlib.lines.Line2D at 0x1a1bb518d0>]"
      ]
     },
     "execution_count": 210,
     "metadata": {},
     "output_type": "execute_result"
    },
    {
     "data": {
      "image/png": "[encoded data removed]",
      "text/plain": [
       "<matplotlib.figure.Figure at 0x1a1ba78d68>"
      ]
     },
     "metadata": {},
     "output_type": "display_data"
    }
   ],
   "source": [
    "plt.plot(blight_by_year)"
   ]
  },
  {
   "cell_type": "markdown",
   "metadata": {},
   "source": [
    "### Percent of blight violations per year"
   ]
  },
  {
   "cell_type": "code",
   "execution_count": 201,
   "metadata": {},
   "outputs": [
    {
     "data": {
      "text/plain": [
       "[<matplotlib.lines.Line2D at 0x1a1bc48240>]"
      ]
     },
     "execution_count": 201,
     "metadata": {},
     "output_type": "execute_result"
    },
    {
     "data": {
      "image/png": "[encoded data removed]",
      "text/plain": [
       "<matplotlib.figure.Figure at 0x1a18f4c7b8>"
      ]
     },
     "metadata": {},
     "output_type": "display_data"
    }
   ],
   "source": [
    "plt.plot(percent_blight_per_year)"
   ]
  },
  {
   "cell_type": "markdown",
   "metadata": {},
   "source": [
    "# Violations by Property Type"
   ]
  },
  {
   "cell_type": "code",
   "execution_count": 228,
   "metadata": {},
   "outputs": [
    {
     "data": {
      "text/plain": [
       "Prop_Use_Desc\n",
       "SINGLE FAMILY                84.936102\n",
       "MFR <10 UNITS                 6.373802\n",
       "VACANT                        3.274760\n",
       "MISC. RESIDENCE               0.974441\n",
       "MULTIFAMILY                   0.766773\n",
       "VACANT COMM                   0.638978\n",
       "MOBILE HOME                   0.415335\n",
       "CONDOMINIUM                   0.319489\n",
       "CHURCHES                      0.207668\n",
       "STORES                        0.175719\n",
       "PKG LOT (COMM)                0.175719\n",
       "STORE/OFF/RES                 0.143770\n",
       "MUNICIPAL                     0.127796\n",
       "OFFICE 1 STORY                0.111821\n",
       "CLB/LDG/UN HALL               0.095847\n",
       "COMMON AREA                   0.079872\n",
       "MUNICIPAL VACANT/XFEATURE     0.079872\n",
       "SERVICE SHOPS                 0.063898\n",
       "PROF OFFICES                  0.047923\n",
       "PRV SCHL/COLL                 0.047923\n",
       "MOTEL                         0.047923\n",
       "STATE(TIITF) VACANT/XF        0.031949\n",
       "WAREH/DIST TERM               0.031949\n",
       "SH CTR NBHD                   0.015974\n",
       "REST DRIVE-IN                 0.015974\n",
       "ORPHNG/NON-PROF               0.015974\n",
       "TMBR SI 80-89                 0.015974\n",
       "UTILITY                       0.015974\n",
       "FINANCIAL                     0.015974\n",
       "VACANT INDUSTRIAL             0.015974\n",
       "Name: Number, dtype: float64"
      ]
     },
     "execution_count": 228,
     "metadata": {},
     "output_type": "execute_result"
    }
   ],
   "source": [
    "blight_prop_type = blight_violations.groupby('Prop_Use_Desc').count().sort_values('Number',ascending=False)['Number']\n",
    "(blight_prop_type / total_blight * 100)"
   ]
  },
  {
   "cell_type": "code",
   "execution_count": 219,
   "metadata": {},
   "outputs": [
    {
     "data": {
      "text/plain": [
       "45"
      ]
     },
     "execution_count": 219,
     "metadata": {},
     "output_type": "execute_result"
    }
   ],
   "source": [
    "# Number of NA's in blight property types\n",
    "total_blight - blight_prop_type.sum()"
   ]
  },
  {
   "cell_type": "markdown",
   "metadata": {},
   "source": [
    "### A significant majority (84.9%) of blight violations are from single family homes, followed by Mult Units of < 10 (6.37%) and Vacant homes (3.27%)\n"
   ]
  },
  {
   "cell_type": "code",
   "execution_count": null,
   "metadata": {},
   "outputs": [],
   "source": []
  }
 ],
 "metadata": {
  "kernelspec": {
   "display_name": "Python 3",
   "language": "python",
   "name": "python3"
  },
  "language_info": {
   "codemirror_mode": {
    "name": "ipython",
    "version": 3
   },
   "file_extension": ".py",
   "mimetype": "text/x-python",
   "name": "python",
   "nbconvert_exporter": "python",
   "pygments_lexer": "ipython3",
   "version": "3.7.6"
  }
 },
 "nbformat": 4,
 "nbformat_minor": 2
}
